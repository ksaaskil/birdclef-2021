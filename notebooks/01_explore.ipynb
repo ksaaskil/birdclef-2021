{
 "cells": [
  {
   "cell_type": "code",
   "execution_count": null,
   "id": "7a464406-b476-48bb-b4ca-c4b3892eed67",
   "metadata": {},
   "outputs": [],
   "source": [
    "import importlib\n",
    "\n",
    "import librosa\n",
    "from librosa.display import waveshow\n",
    "import matplotlib.pyplot as plt\n",
    "import numpy as np\n",
    "import pandas as pd\n",
    "import tensorflow_io as tfio\n",
    "import tensorflow as tf\n",
    "\n",
    "import src.preprocess\n",
    "importlib.reload(src.preprocess)\n",
    "\n",
    "SR = 32000\n",
    "DATA_ROOT = \"gs://bird-clef-kimmo/data\"\n",
    "SAMPLE_LENGTH = 5 # seconds"
   ]
  },
  {
   "cell_type": "code",
   "execution_count": null,
   "id": "81a41a4f-5020-42af-a075-d4422584cc9c",
   "metadata": {},
   "outputs": [],
   "source": [
    "audio = tfio.audio.AudioIOTensor(f'{DATA_ROOT}/train_short_audio/mallar3/XC104614.ogg')\n",
    "print(audio)"
   ]
  },
  {
   "cell_type": "code",
   "execution_count": null,
   "id": "f28ce7ca-fc48-4a8d-9821-10f98c55ef1b",
   "metadata": {},
   "outputs": [],
   "source": [
    "audio_tensor = tf.squeeze(audio.to_tensor(), axis=1)\n",
    "audio_tensor = audio_tensor[:SR*SAMPLE_LENGTH]\n",
    "print(audio_tensor)"
   ]
  },
  {
   "cell_type": "markdown",
   "id": "d7816bc3-b997-491a-8a01-ae62a2438d22",
   "metadata": {},
   "source": [
    "### Plot waveform"
   ]
  },
  {
   "cell_type": "code",
   "execution_count": null,
   "id": "dd319c44-f221-4779-b7ea-6ed1959fc745",
   "metadata": {},
   "outputs": [],
   "source": [
    "fig, ax = plt.subplots(nrows=2, sharex=True)\n",
    "\n",
    "# With pyplot\n",
    "audio_np = audio_tensor.numpy()\n",
    "ts = np.linspace(0, SAMPLE_LENGTH, len(audio_np))\n",
    "ax[0].plot(ts, audio_np)\n",
    "\n",
    "# With librosa.display.waveshow\n",
    "waveshow(audio_np, sr=SR, x_axis='time', label=\"Waveform\", ax=ax[1])"
   ]
  },
  {
   "cell_type": "code",
   "execution_count": null,
   "id": "ae959181-5fec-4544-99d6-a9f461edbf26",
   "metadata": {},
   "outputs": [],
   "source": [
    "from IPython.display import Audio\n",
    "\n",
    "Audio(audio_np, rate=audio.rate.numpy())"
   ]
  },
  {
   "cell_type": "markdown",
   "id": "24022343-fcb5-47bf-9d1b-0d4679f202e3",
   "metadata": {},
   "source": [
    "## Spectrogram through `tfio.audio`"
   ]
  },
  {
   "cell_type": "code",
   "execution_count": null,
   "id": "02c14cf9-5ea4-4e00-9160-1630528fcc23",
   "metadata": {},
   "outputs": [],
   "source": [
    "NFFT = 1024\n",
    "WINDOW = 1024\n",
    "STRIDE = 512 # Hop length\n",
    "spectrogram = tfio.audio.spectrogram(\n",
    "    audio_tensor, nfft=NFFT, window=WINDOW, stride=STRIDE)\n",
    "\n",
    "NT = int(len(audio_np) / STRIDE)\n",
    "NF = int(NFFT / 2 + 1)\n",
    "print(\"Shape\", spectrogram.shape, \"Expected shape\", (NT, NF))\n",
    "\n",
    "ts = np.linspace(0, SAMPLE_LENGTH, NT)\n",
    "fs = np.arange(NF)\n",
    "\n",
    "fig, ax = plt.subplots(nrows=2, ncols=1, sharex=True, figsize=(12, 6))\n",
    "\n",
    "top_db = 80\n",
    "spectrogram_db = tfio.audio.dbscale(\n",
    "    spectrogram, top_db, name=None\n",
    ")\n",
    "spectrogram_db_np = spectrogram_db.numpy().T\n",
    "img = ax[0].imshow(spectrogram_db_np, extent=[0, SAMPLE_LENGTH, NF, 0])\n",
    "ax[0].set_aspect(\"auto\")\n",
    "ax[0].label_outer()\n",
    "ax[0].set(title='Linear frequency scale')\n",
    "\n",
    "# fig.colorbar(img, ax=ax[0])\n",
    "\n",
    "mels = 128\n",
    "mel_spectrogram = tfio.audio.melscale(\n",
    "    spectrogram, rate=SR, mels=mels, fmin=0, fmax=SR/4)\n",
    "\n",
    "dbscale_mel_spectrogram = tfio.audio.dbscale(\n",
    "    mel_spectrogram, top_db=top_db)\n",
    "\n",
    "mel_spectrogram_db_np = dbscale_mel_spectrogram.numpy().T\n",
    "img = ax[1].imshow(mel_spectrogram_db_np, extent=[0, SAMPLE_LENGTH, mels, 0])\n",
    "ax[1].set_aspect(\"auto\")\n",
    "ax[1].set_xlabel('Time (s)')\n",
    "ax[1].set(title='Mel frequency scale')\n",
    "fig.colorbar(img, ax=ax, format=\"%+2.f dB\")\n",
    "\n",
    "# ax.title('Spectrogram on DB scale')\n",
    "# plt.xlabel('Time (s)')\n",
    "# plt.ylabel('Frequency')"
   ]
  },
  {
   "cell_type": "markdown",
   "id": "90a97e40-86bd-4065-adff-2d36d8c31712",
   "metadata": {},
   "source": [
    "### Spectrogram through `librosa`"
   ]
  },
  {
   "cell_type": "code",
   "execution_count": null,
   "id": "62957761-4642-48b3-abe2-74120943df8b",
   "metadata": {},
   "outputs": [],
   "source": [
    "fig, ax = plt.subplots(nrows=3, ncols=1, sharex=True, figsize=(12, 6))\n",
    "\n",
    "D = librosa.amplitude_to_db(np.abs(librosa.stft(audio_np)), ref=np.max)\n",
    "img = librosa.display.specshow(D, y_axis='linear', x_axis='time',\n",
    "                               sr=SR, ax=ax[0])\n",
    "ax[0].set(title='Linear-frequency power spectrogram')\n",
    "ax[0].label_outer()\n",
    "\n",
    "hop_length = 1024\n",
    "D = librosa.amplitude_to_db(np.abs(librosa.stft(audio_np, hop_length=hop_length)),\n",
    "                            ref=np.max)\n",
    "librosa.display.specshow(D, y_axis='log', sr=SR, hop_length=hop_length,\n",
    "                         x_axis='time', ax=ax[1])\n",
    "ax[1].set(title='Log-frequency power spectrogram')\n",
    "ax[1].label_outer()\n",
    "fig.colorbar(img, ax=ax, format=\"%+2.f dB\")\n",
    "\n",
    "n_mels = 128\n",
    "fmax=SR / 2\n",
    "\n",
    "NFFT = 1024\n",
    "STRIDE = 512\n",
    "M = librosa.feature.melspectrogram(y=audio_np,\n",
    "                                   sr=SR,\n",
    "                                   n_fft=NFFT,\n",
    "                                   hop_length=STRIDE,\n",
    "                                   n_mels=n_mels,\n",
    "                                   fmax=fmax)\n",
    "M_db = librosa.power_to_db(M, ref=np.max)\n",
    "\n",
    "librosa.display.specshow(M_db, y_axis='mel', sr=SR, hop_length=STRIDE,\n",
    "                         x_axis='time', fmax=fmax, ax=ax[2])\n",
    "\n",
    "ax[2].set(title='Mel-frequency power spectrogram')\n",
    "\n",
    "print(\"Shape of mel-scale spectrogram:\", np.shape(M_db))"
   ]
  },
  {
   "cell_type": "markdown",
   "id": "328a015b-cc87-44c5-95d1-1f32a45be5e8",
   "metadata": {},
   "source": [
    "### Frequency masking"
   ]
  },
  {
   "cell_type": "code",
   "execution_count": null,
   "id": "6a41a80c-f393-4850-9685-4c3b6b38e398",
   "metadata": {},
   "outputs": [],
   "source": [
    "freq_mask = tfio.audio.freq_mask(dbscale_mel_spectrogram, param=20)\n",
    "\n",
    "fig, ax = plt.subplots(figsize=(6,6))\n",
    "ax.imshow(freq_mask.numpy().T, extent=[0, 5, NF, 0])\n",
    "ax.set_aspect(\"auto\")"
   ]
  },
  {
   "cell_type": "markdown",
   "id": "52e5aa49-dee8-4d41-aabb-e4d3883723b3",
   "metadata": {},
   "source": [
    "### Time masking"
   ]
  },
  {
   "cell_type": "code",
   "execution_count": null,
   "id": "6e189348-7fde-4a43-8281-70915316f271",
   "metadata": {},
   "outputs": [],
   "source": [
    "time_mask = tfio.audio.time_mask(dbscale_mel_spectrogram, param=50)\n",
    "\n",
    "fig, ax = plt.subplots(figsize=(6,6))\n",
    "ax.imshow(time_mask.numpy().T, extent=[0, 5, NF, 0])\n",
    "ax.set_aspect(\"auto\")"
   ]
  }
 ],
 "metadata": {
  "environment": {
   "kernel": "conda-root-py",
   "name": "tf2-gpu.2-6.m87",
   "type": "gcloud",
   "uri": "gcr.io/deeplearning-platform-release/tf2-gpu.2-6:m87"
  },
  "kernelspec": {
   "display_name": "Python [conda env:root] *",
   "language": "python",
   "name": "conda-root-py"
  },
  "language_info": {
   "codemirror_mode": {
    "name": "ipython",
    "version": 3
   },
   "file_extension": ".py",
   "mimetype": "text/x-python",
   "name": "python",
   "nbconvert_exporter": "python",
   "pygments_lexer": "ipython3",
   "version": "3.7.12"
  }
 },
 "nbformat": 4,
 "nbformat_minor": 5
}
