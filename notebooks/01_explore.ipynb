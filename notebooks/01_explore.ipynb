{
 "cells": [
  {
   "cell_type": "code",
   "execution_count": null,
   "id": "7a464406-b476-48bb-b4ca-c4b3892eed67",
   "metadata": {},
   "outputs": [],
   "source": [
    "import importlib\n",
    "\n",
    "import librosa\n",
    "import pandas as pd\n",
    "import tensorflow_io as tfio\n",
    "import tensorflow as tf\n",
    "\n",
    "import src.preprocess\n",
    "importlib.reload(src.preprocess)\n",
    "\n",
    "DATA_ROOT = \"gs://bird-clef-kimmo/data\""
   ]
  },
  {
   "cell_type": "code",
   "execution_count": null,
   "id": "81a41a4f-5020-42af-a075-d4422584cc9c",
   "metadata": {},
   "outputs": [],
   "source": [
    "audio = tfio.audio.AudioIOTensor(f'{DATA_ROOT}/train_short_audio/mallar3/XC104614.ogg')\n",
    "print(audio)"
   ]
  },
  {
   "cell_type": "code",
   "execution_count": null,
   "id": "f28ce7ca-fc48-4a8d-9821-10f98c55ef1b",
   "metadata": {},
   "outputs": [],
   "source": [
    "audio_tensor = tf.squeeze(audio.to_tensor(), axis=[-1])\n",
    "audio_tensor = audio_tensor[:32000*5]\n",
    "print(audio_tensor)"
   ]
  },
  {
   "cell_type": "code",
   "execution_count": null,
   "id": "ae959181-5fec-4544-99d6-a9f461edbf26",
   "metadata": {},
   "outputs": [],
   "source": [
    "from IPython.display import Audio\n",
    "\n",
    "Audio(audio_tensor.numpy(), rate=audio.rate.numpy())"
   ]
  },
  {
   "cell_type": "code",
   "execution_count": null,
   "id": "eeed0ebd-51a2-4b4d-80b6-f4216e84abf1",
   "metadata": {},
   "outputs": [],
   "source": [
    "import matplotlib.pyplot as plt\n",
    "\n",
    "tensor = tf.cast(audio_tensor, tf.float32) / 32768.0\n",
    "\n",
    "plt.figure()\n",
    "plt.plot(tensor.numpy())"
   ]
  },
  {
   "cell_type": "code",
   "execution_count": null,
   "id": "02c14cf9-5ea4-4e00-9160-1630528fcc23",
   "metadata": {},
   "outputs": [],
   "source": [
    "spectrogram = tfio.audio.spectrogram(\n",
    "    tensor, nfft=512, window=512, stride=256)\n",
    "\n",
    "plt.figure()\n",
    "plt.imshow(tf.math.log(spectrogram).numpy())"
   ]
  },
  {
   "cell_type": "code",
   "execution_count": null,
   "id": "9f5c47d1-7728-4c37-a55e-806248823fab",
   "metadata": {},
   "outputs": [],
   "source": [
    "spectrogram.shape"
   ]
  },
  {
   "cell_type": "code",
   "execution_count": null,
   "id": "9d8fd97c-b629-4dda-8dfb-bf03cb7daee0",
   "metadata": {},
   "outputs": [],
   "source": [
    "# Convert to mel-spectrogram\n",
    "mel_spectrogram = tfio.audio.melscale(\n",
    "    spectrogram, rate=16000, mels=128, fmin=0, fmax=8000)\n",
    "\n",
    "plt.figure()\n",
    "plt.imshow(tf.math.log(mel_spectrogram).numpy())\n",
    "\n",
    "# Convert to db scale mel-spectrogram\n",
    "dbscale_mel_spectrogram = tfio.audio.dbscale(\n",
    "    mel_spectrogram, top_db=80)\n",
    "\n",
    "plt.figure()\n",
    "plt.imshow(dbscale_mel_spectrogram.numpy())"
   ]
  },
  {
   "cell_type": "code",
   "execution_count": null,
   "id": "6a41a80c-f393-4850-9685-4c3b6b38e398",
   "metadata": {},
   "outputs": [],
   "source": [
    "freq_mask = tfio.audio.freq_mask(dbscale_mel_spectrogram, param=10)\n",
    "\n",
    "plt.figure()\n",
    "plt.imshow(freq_mask.numpy())"
   ]
  },
  {
   "cell_type": "code",
   "execution_count": null,
   "id": "6e189348-7fde-4a43-8281-70915316f271",
   "metadata": {},
   "outputs": [],
   "source": [
    "time_mask = tfio.audio.time_mask(dbscale_mel_spectrogram, param=10)\n",
    "\n",
    "plt.figure()\n",
    "plt.imshow(time_mask.numpy())"
   ]
  }
 ],
 "metadata": {
  "environment": {
   "kernel": "conda-root-py",
   "name": "tf2-gpu.2-6.m87",
   "type": "gcloud",
   "uri": "gcr.io/deeplearning-platform-release/tf2-gpu.2-6:m87"
  },
  "kernelspec": {
   "display_name": "Python [conda env:root] *",
   "language": "python",
   "name": "conda-root-py"
  },
  "language_info": {
   "codemirror_mode": {
    "name": "ipython",
    "version": 3
   },
   "file_extension": ".py",
   "mimetype": "text/x-python",
   "name": "python",
   "nbconvert_exporter": "python",
   "pygments_lexer": "ipython3",
   "version": "3.7.12"
  }
 },
 "nbformat": 4,
 "nbformat_minor": 5
}
