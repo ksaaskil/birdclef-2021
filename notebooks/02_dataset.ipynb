{
 "cells": [
  {
   "cell_type": "code",
   "execution_count": null,
   "id": "f833e8cf-3559-4cf7-98ee-679a54f4ef2b",
   "metadata": {},
   "outputs": [],
   "source": [
    "import librosa\n",
    "import importlib\n",
    "import src.preprocess\n",
    "import pandas as pd\n",
    "import tensorflow_io as tfio\n",
    "import tensorflow as tf\n",
    "import numpy as np\n",
    "importlib.reload(src.preprocess)\n",
    "\n",
    "GS_DATA = \"gs://bird-clef-kimmo/data\"\n",
    "TRAIN_SHORT_AUDIO_DATA = f\"{GS_DATA}/train_short_audio\""
   ]
  },
  {
   "cell_type": "code",
   "execution_count": null,
   "id": "37971931-5f80-4559-9df9-ce273d49ac48",
   "metadata": {},
   "outputs": [],
   "source": [
    "!gsutil ls $GS_DATA"
   ]
  },
  {
   "cell_type": "code",
   "execution_count": null,
   "id": "acc6a6d9-2c43-4357-905b-166de0a4c2a7",
   "metadata": {},
   "outputs": [],
   "source": [
    "TRAIN_METADATA_CSV = f\"{GS_DATA}/train_metadata.csv\"\n",
    "\n",
    "train_metadata_ds = tf.data.experimental.make_csv_dataset(\n",
    "    TRAIN_METADATA_CSV, batch_size=1)"
   ]
  },
  {
   "cell_type": "code",
   "execution_count": null,
   "id": "2416b870-b5bd-4726-b43e-5f39f25400ac",
   "metadata": {},
   "outputs": [],
   "source": [
    "def read_file(url):\n",
    "    print(f\"Reading file: {url}\")\n",
    "    return tf.squeeze(tfio.audio.AudioIOTensor(url).to_tensor())\n",
    "\n",
    "def process_row(row):\n",
    "    filename = row[\"filename\"]\n",
    "    primary_label = row[\"primary_label\"]\n",
    "    file_url = TRAIN_SHORT_AUDIO_DATA + \"/\" + primary_label + \"/\" + filename # tf.py_function(lambda filenames: [f\"{GS_DATA}/{filename}\" for filename in filenames], [filename], [tf.string])\n",
    "    wave_form = tf.py_function(read_file, [tf.squeeze(file_url)], [tf.float32])\n",
    "    return {**row, \"file_url\": file_url, \"wave_form\": wave_form}\n",
    "\n",
    "for row in train_metadata_ds.map(process_row).take(4):\n",
    "    print(row)\n"
   ]
  },
  {
   "cell_type": "code",
   "execution_count": null,
   "id": "1ac74873-f10f-49cc-84c8-311df09ea405",
   "metadata": {},
   "outputs": [],
   "source": [
    "a = tf.constant(np.array([[\"a\"], [\"c\"]]))\n",
    "b = tf.map_fn(lambda x: tf.expand_dims(x, axis=0), a)\n",
    "print(b)\n"
   ]
  },
  {
   "cell_type": "code",
   "execution_count": null,
   "id": "4e2c7dcb-9c86-4172-b86d-9c02bc193309",
   "metadata": {},
   "outputs": [],
   "source": []
  }
 ],
 "metadata": {
  "environment": {
   "kernel": "conda-root-py",
   "name": "tf2-gpu.2-6.m87",
   "type": "gcloud",
   "uri": "gcr.io/deeplearning-platform-release/tf2-gpu.2-6:m87"
  },
  "kernelspec": {
   "display_name": "Python [conda env:root] *",
   "language": "python",
   "name": "conda-root-py"
  },
  "language_info": {
   "codemirror_mode": {
    "name": "ipython",
    "version": 3
   },
   "file_extension": ".py",
   "mimetype": "text/x-python",
   "name": "python",
   "nbconvert_exporter": "python",
   "pygments_lexer": "ipython3",
   "version": "3.7.12"
  }
 },
 "nbformat": 4,
 "nbformat_minor": 5
}
